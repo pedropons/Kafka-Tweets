﻿{
 "cells": [
  {
   "cell_type": "markdown",
   "metadata": {},
   "source": [
    "*Giménez Arias, Carolina*\n",
    "\n",
    "*Pons Suñer, Pedro*"
   ]
  },
  {
   "cell_type": "markdown",
   "metadata": {},
   "source": [
    "## Productor de tweets\n",
    "\n",
    "Este notebook se encarga de producir tweets a partir de Twitter y guardarlos en el topic *tweetsRaw*. Es necesario introducir unas credenciales o *tokens* para ello. Como pretendemos obtener alguna conclusión sobre las elecciones del 26 de mayo, se recogerán los tweets que contengan '26M' y/o 'elecciones'."
   ]
  },
  {
   "cell_type": "code",
   "execution_count": null,
   "metadata": {},
   "outputs": [],
   "source": [
    "# Importamos las librerías a usar:\n",
    "import matplotlib.pyplot as plt\n",
    "import time\n",
    "import json\n",
    "import tweepy\n",
    "from confluent_kafka import Producer\n",
    "import numpy as np\n",
    "import matplotlib.pyplot as plt\n",
    "from IPython.display import display, clear_output"
   ]
  },
  {
   "cell_type": "code",
   "execution_count": null,
   "metadata": {},
   "outputs": [],
   "source": [
    "# Cargamos las credenciales correspondientes\n",
    "\n",
    "consumer_token = '...'\n",
    "consumer_secret = '...'\n",
    "access_token = '...'\n",
    "access_token_secret = '...'\n",
    "\n",
    "ACCESS_KEY = '...'\n",
    "SECRET_KEY = '...'"
   ]
  },
  {
   "cell_type": "code",
   "execution_count": null,
   "metadata": {},
   "outputs": [],
   "source": [
    "# Creamos un productor\n",
    "p = Producer({\n",
    "    'bootstrap.servers': 'localhost:9092'\n",
    "})"
   ]
  },
  {
   "cell_type": "code",
   "execution_count": null,
   "metadata": {},
   "outputs": [],
   "source": [
    "def put_to_stream(data):\n",
    "    p.poll(0)\n",
    "    payload = json.dumps(data).encode('utf-8') #Importante para evitar problemas en la lectura: codificación utf-8\n",
    "    p.produce('tweetsRaw', payload)"
   ]
  },
  {
   "cell_type": "code",
   "execution_count": null,
   "metadata": {},
   "outputs": [],
   "source": [
    "auth = tweepy.OAuthHandler(consumer_token, consumer_secret)\n",
    "auth.set_access_token(access_token, access_token_secret)\n",
    "api = tweepy.API(auth)"
   ]
  },
  {
   "cell_type": "code",
   "execution_count": null,
   "metadata": {},
   "outputs": [],
   "source": [
    "class TwitterConsumer(tweepy.StreamListener):\n",
    "        \n",
    "    def on_status(self, tweet):\n",
    "        text = tweet.text\n",
    "        user = tweet.user.screen_name\n",
    "        hashtags = [ h['text'] for h in tweet.entities[\"hashtags\"] ]\n",
    "        created_at = str(tweet.created_at)\n",
    "       \n",
    "        if tweet.place: \n",
    "            country = tweet.place.country\n",
    "        else:\n",
    "            country = tweet.user.location\n",
    "        \n",
    "        # Creamos un diccionario que contenga todos los campos del tweet que nos vayan a interesar\n",
    "        tweet_info = {\n",
    "            'text': text, #texto del tweet\n",
    "            'user': user, #nombre del usuario\n",
    "            'hashtags': hashtags, # hashtags mencionados en el tweet\n",
    "            'created_at': created_at, # fecha y hora a la que fue publicado\n",
    "            'country': country # país en el que se tuiteó\n",
    "        }\n",
    "\n",
    "        put_to_stream(tweet_info)\n",
    "        #print(tweet_info)\n",
    "        \n",
    "    def on_error(self, status_code):\n",
    "        print(status_code)\n",
    "\n",
    "twitter_stream_listener = TwitterConsumer()\n",
    "twitter_stream = tweepy.Stream(auth = api.auth, listener=twitter_stream_listener)"
   ]
  },
  {
   "cell_type": "code",
   "execution_count": null,
   "metadata": {},
   "outputs": [],
   "source": [
    "keywords = ['26M','elecciones'] #Introducimos la palabra clave a estudiar, en este caso, el hashtag \"Elecciones26M\"\n",
    "while True:\n",
    "    twitter_stream.filter(track=keywords)\n",
    "    time.sleep(0.5)"
   ]
  }
 ],
 "metadata": {
  "kernelspec": {
   "display_name": "Python 3",
   "language": "python",
   "name": "python3"
  },
  "language_info": {
   "codemirror_mode": {
    "name": "ipython",
    "version": 3
   },
   "file_extension": ".py",
   "mimetype": "text/x-python",
   "name": "python",
   "nbconvert_exporter": "python",
   "pygments_lexer": "ipython3",
   "version": "3.6.8"
  }
 },
 "nbformat": 4,
 "nbformat_minor": 2
}
