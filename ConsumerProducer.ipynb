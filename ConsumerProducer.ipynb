{
 "cells": [
  {
   "cell_type": "markdown",
   "metadata": {},
   "source": [
    "*Giménez Arias, Carolina*\n",
    "\n",
    "*Pons Suñer, Pedro*"
   ]
  },
  {
   "cell_type": "markdown",
   "metadata": {},
   "source": [
    "## Consumer-Producer\n",
    "\n",
    "Este script debería utilizarse tras ejecutar el script *TweetProducer*.\n",
    "\n",
    "En este script se leen los tweets guardados en el topic *tweetsRaw*, se procesan y son guardados en un segundo topic, *tweetsProcessed*, para luego ser consumidos en los scripts *TweetsConsumer-Barplot* y *TweetsConsumer-TimeSeries*."
   ]
  },
  {
   "cell_type": "code",
   "execution_count": null,
   "metadata": {},
   "outputs": [],
   "source": [
    "# Cargamos las librerías a usar:\n",
    "import matplotlib.pyplot as plt\n",
    "from confluent_kafka import Consumer, KafkaError, Producer\n",
    "from IPython.display import display, clear_output\n",
    "import pandas as pd\n",
    "import time\n",
    "import json"
   ]
  },
  {
   "cell_type": "code",
   "execution_count": null,
   "metadata": {},
   "outputs": [],
   "source": [
    "# Creamos un productor\n",
    "p = Producer({\n",
    "    'bootstrap.servers': 'localhost:9092',\n",
    "})"
   ]
  },
  {
   "cell_type": "code",
   "execution_count": null,
   "metadata": {},
   "outputs": [],
   "source": [
    "#Función que guardará los datos en el topic tweetsProcessed\n",
    "def put_to_stream(data):\n",
    "    p.poll(0)\n",
    "    payload = json.dumps(data).encode('utf-8') #Importante para evitar problemas en la lectura: codificación utf-8\n",
    "    p.produce('tweetsProcessed', payload)"
   ]
  },
  {
   "cell_type": "code",
   "execution_count": null,
   "metadata": {},
   "outputs": [],
   "source": [
    "#Definimos el consumidor:\n",
    "cons = Consumer({\n",
    "    'bootstrap.servers': 'localhost:9092',\n",
    "    'group.id': 'mygroupCP'\n",
    "})\n",
    "\n",
    "#Nos suscribimos al topic en el que el primer productor inserta tweets:\n",
    "cons.subscribe(['tweetsRaw'])\n",
    "\n",
    "while True:\n",
    "    \n",
    "    msg = cons.poll(1.0) #espera un segundo, si en ese segundo nos llega algo lo usa\n",
    "    if msg is None:\n",
    "        continue\n",
    "    \n",
    "    tweet_info=msg.value().decode('utf-8') #Muy importante: codificación utf-8\n",
    "    tweet_info=tweet_info.replace('@Pablo_Iglesias_','PODEMOS')\n",
    "    tweet_info=tweet_info.replace('@sanchezcastejon','PSOE')\n",
    "    tweet_info=tweet_info.replace('Pedro Sanchez','PSOE')\n",
    "    tweet_info=tweet_info.replace('@Albert_Rivera','CIUDADANOS')\n",
    "    tweet_info=tweet_info.replace('@pablocasado_','PP')\n",
    "    tweet_info=tweet_info.replace('@populares','PP')\n",
    "    tweet_info=tweet_info.replace('@CiudadanosCs','CIUDADANOS')\n",
    "    tweet_info=tweet_info.replace('@ahorapodemos','PODEMOS')\n",
    "    tweet_info=tweet_info.replace('@Santi_ABASCAL','VOX')\n",
    "    tweet_info=tweet_info.replace('Vox','VOX')\n",
    "    tweet_info=tweet_info.replace('vox','VOX')\n",
    "    tweet_info=tweet_info.replace('Psoe','PSOE')\n",
    "    tweet_info=tweet_info.replace('psoe','PSOE')\n",
    "    tweet_info=tweet_info.replace('Cs','CIUDADANOS')\n",
    "    tweet_info=tweet_info.replace('Ciudadanos','CIUDADANOS')\n",
    "    tweet_info=tweet_info.replace('Podemos','PODEMOS')\n",
    "    tweet_info=tweet_info.replace('pp','PP')\n",
    "    #tweet_info=tweet_info.upper() #Pasamos todo a mayúscula para facilitar la búsqueda de los términos que aparecen tanto en mayus como minus\n",
    "    put_to_stream(tweet_info)\n",
    "    \n",
    "cons.close()"
   ]
  }
 ],
 "metadata": {
  "kernelspec": {
   "display_name": "Python 3",
   "language": "python",
   "name": "python3"
  },
  "language_info": {
   "codemirror_mode": {
    "name": "ipython",
    "version": 3
   },
   "file_extension": ".py",
   "mimetype": "text/x-python",
   "name": "python",
   "nbconvert_exporter": "python",
   "pygments_lexer": "ipython3",
   "version": "3.6.8"
  }
 },
 "nbformat": 4,
 "nbformat_minor": 2
}
