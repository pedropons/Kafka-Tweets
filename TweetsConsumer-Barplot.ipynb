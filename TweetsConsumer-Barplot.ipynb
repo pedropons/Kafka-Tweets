{
 "cells": [
  {
   "cell_type": "markdown",
   "metadata": {},
   "source": [
    "*Giménez Arias, Carolina*\n",
    "\n",
    "*Pons Suñer, Pedro*"
   ]
  },
  {
   "cell_type": "markdown",
   "metadata": {},
   "source": [
    "## Consumidor con recuento de menciones\n",
    "\n",
    "Este consumidor se encarga de contar el número de menciones a cada partido político y de graficar la suma acumulada de menciones en tiempo real usando un gráfico de barras.\n",
    "\n",
    "Los tweets son consumidos del topic *tweetsProcessed*, que son producidos en el script *ConsumerProducer*."
   ]
  },
  {
   "cell_type": "code",
   "execution_count": 5,
   "metadata": {},
   "outputs": [],
   "source": [
    "# Cargamos las librerías a usar:\n",
    "import matplotlib.pyplot as plt\n",
    "from confluent_kafka import Consumer, KafkaError\n",
    "from IPython.display import display, clear_output\n",
    "import pandas as pd\n",
    "import matplotlib.dates as mdates\n",
    "import datetime,re"
   ]
  },
  {
   "cell_type": "code",
   "execution_count": null,
   "metadata": {},
   "outputs": [
    {
     "data": {
      "image/png": "[encoded data removed]",
      "text/plain": [
       "<Figure size 432x288 with 1 Axes>"
      ]
     },
     "metadata": {},
     "output_type": "display_data"
    }
   ],
   "source": [
    "cons = Consumer({\n",
    "    'bootstrap.servers': 'localhost:9092',\n",
    "    'group.id': 'mygroupBar',\n",
    "})\n",
    "\n",
    "cons.subscribe(['tweetsProcessed'])\n",
    "first_run=True\n",
    "\n",
    "while True:\n",
    "    \n",
    "    msg = cons.poll(1.0) #espera un segundo, si en ese segundo nos llega algo lo usa\n",
    "\n",
    "    if msg is None:\n",
    "        continue\n",
    "    tweet_info=msg.value().decode('utf-8') #Muy importante: codificación utf-8\n",
    "    tweet_info=tweet_info.replace(\"\\\\\\\"\",\"\\\"\")\n",
    "    #print(tweet_info)\n",
    "    \n",
    "    if first_run == True:\n",
    "        a=b=c=d=e=0 #Creamos vectores vacíos para rellenar luego\n",
    "        fig = plt.figure()\n",
    "        ax = fig.add_subplot(1, 1, 1) \n",
    "        first_run = False \n",
    "    # Nos quedamos con la parte del tweet que nos interesa (el mensaje) y contamos el número de veces \n",
    "    # que aparece cada partido\n",
    "    a += re.search(\"text\\\": (.*), \\\"user\\\":\",tweet_info)[0][8:-10].count('PSOE')\n",
    "    b += re.search(\"text\\\": (.*), \\\"user\\\":\",tweet_info)[0][8:-10].count('PP')\n",
    "    c += re.search(\"text\\\": (.*), \\\"user\\\":\",tweet_info)[0][8:-10].count('CIUDADANOS')\n",
    "    d += re.search(\"text\\\": (.*), \\\"user\\\":\",tweet_info)[0][8:-10].count('PODEMOS')\n",
    "    e += re.search(\"text\\\": (.*), \\\"user\\\":\",tweet_info)[0][8:-10].count('VOX')\n",
    "    \n",
    "    # Ploteamos\n",
    "    ax.cla()\n",
    "    ax.set_title(\"Número de menciones de cada partido político\")\n",
    "    ax.set_xlabel(\"Partido político\")\n",
    "    ax.set_ylabel(\"Menciones\")\n",
    "    \n",
    "    ax.bar(['PSOE', 'PP', 'Ciudadanos','Podemos','Vox'],[a, b, c, d, e], color = [\"Red\",\"Blue\",\"Orange\",\"Purple\",\"Green\"])\n",
    "    display(fig)\n",
    "    clear_output(wait = True)\n",
    "    plt.pause(0.5)\n",
    "    \n",
    "\n",
    "cons.close()"
   ]
  }
 ],
 "metadata": {
  "kernelspec": {
   "display_name": "Python 3",
   "language": "python",
   "name": "python3"
  },
  "language_info": {
   "codemirror_mode": {
    "name": "ipython",
    "version": 3
   },
   "file_extension": ".py",
   "mimetype": "text/x-python",
   "name": "python",
   "nbconvert_exporter": "python",
   "pygments_lexer": "ipython3",
   "version": "3.6.8"
  }
 },
 "nbformat": 4,
 "nbformat_minor": 2
}
